{
 "cells": [
  {
   "cell_type": "code",
   "execution_count": 17,
   "metadata": {},
   "outputs": [],
   "source": [
    "import requests\n",
    "from bs4 import BeautifulSoup\n",
    "import pandas as pd\n",
    "\n",
    "urlgoal = \"https://www.goal.com/id\"\n",
    "urlpandit = \"https://www.panditfootball.com/\"\n",
    "urldetik = \"https://sport.detik.com/\"\n",
    "urlbola = \"https://www.bola.com/\"\n",
    "\n",
    "responsegoal = requests.request (\"GET\", urlgoal)\n",
    "responsepandit = requests.request (\"GET\", urlpandit)\n",
    "responsedetik = requests.request (\"GET\", urldetik)\n",
    "responsebola = requests.request (\"GET\", urlbola)\n",
    "\n",
    "goal = BeautifulSoup(responsegoal.text, 'html.parser')\n",
    "pandit = BeautifulSoup(responsepandit.text, 'html.parser')\n",
    "detik = BeautifulSoup(responsedetik.text, 'html.parser')\n",
    "bola = BeautifulSoup(responsebola.text, 'html.parser')"
   ]
  },
  {
   "cell_type": "code",
   "execution_count": 18,
   "metadata": {},
   "outputs": [],
   "source": [
    "DataGoal = goal.find_all('table', attrs={'class':'widget-news-card card-type-article'}, limit=10)\n",
    "isiDataGoal = []\n",
    "\n",
    "for dataGoalX in DataGoal:\n",
    "    detailGoal = {}\n",
    "    linkGoal = dataGoalX.find('td', attrs={'class':'widget-news-card__image'})\n",
    "    judulGoal = dataGoalX.find('td', attrs={'class':'widget-news-card__content'})\n",
    "    tanggalGoal = judulGoal.find('div', attrs={'class':'widget-news-card__date'}).text\n",
    "    detailGoal[\"waktu\"] = tanggalGoal\n",
    "    judulGoal = judulGoal.find('h3', attrs={'class':'widget-news-card__title'})\n",
    "    link = linkGoal.find('a', href=True)\n",
    "    foto = linkGoal.find('img')\n",
    "    judul = judulGoal.find('a').text\n",
    "    detailGoal[\"link\"] = \"goal.com\" + link['href']\n",
    "    detailGoal[\"foto\"] = foto['src']\n",
    "    detailGoal[\"judul\"] = judul\n",
    "    detailGoal[\"source\"] = 'https://www.goal.com/id'\n",
    "    isiDataGoal.append(detailGoal)\n",
    "pd.DataFrame.from_dict(isiDataGoal).to_csv(\"goal.csv\", index=False)"
   ]
  },
  {
   "cell_type": "code",
   "execution_count": 20,
   "metadata": {},
   "outputs": [],
   "source": [
    "DataPandit = pandit.find_all('article', attrs={'class':'news-block small-block'}, limit=10)\n",
    "isiDataPandit = []\n",
    "for dataPanditX in DataPandit:\n",
    "    detailPandit = {}\n",
    "    linkPandit = dataPanditX.find('a', attrs={'class':'overlay-link'}, href=True)\n",
    "    fotoPandit = linkPandit.find('img', attrs={'style':'max-height:200px;'})\n",
    "    judulPandit = dataPanditX.find('h3')\n",
    "    judulPandit = judulPandit.find('a').text\n",
    "    waktuPandit = dataPanditX.find('p').text\n",
    "    detailPandit[\"waktu\"] = waktuPandit.strip().replace(\"/\", \"-\") + \":00\"\n",
    "    detailPandit[\"link\"] = linkPandit['href']\n",
    "    detailPandit[\"foto\"] = fotoPandit['src']\n",
    "    detailPandit[\"judul\"] = judulPandit.strip()\n",
    "    detailPandit[\"source\"] = \"https://www.panditfootball.com\"\n",
    "    isiDataPandit.append(detailPandit)\n",
    "pd.DataFrame.from_dict(isiDataPandit).to_csv(\"pandit.csv\", index=False)"
   ]
  },
  {
   "cell_type": "code",
   "execution_count": 23,
   "metadata": {},
   "outputs": [],
   "source": [
    "DataBola = bola.find_all('li', attrs={'class':'headline--bottom-slider__item'})\n",
    "isiDataBola = []\n",
    "for dataBolaX in DataBola:\n",
    "    detailBola = {}\n",
    "    linkBola = dataBolaX.find('a', attrs={'class':'ui--a headline--bottom-slider__link'}, href=True)\n",
    "    fotoBola = dataBolaX.find('img', attrs={'class':'small-img'})\n",
    "    judulBola = dataBolaX.find('div', attrs={'class':'headline--bottom-slider__item_title'}).text\n",
    "    waktuBola = dataBolaX.find('time', attrs={'class':'headline--bottom-slider__item_timestamp timeago'})\n",
    "    detailBola[\"waktu\"] = waktuBola['datetime'].replace('T', \" \")[:19]\n",
    "    detailBola[\"link\"] = linkBola['href']\n",
    "    detailBola[\"foto\"] = fotoBola['src']\n",
    "    detailBola[\"judul\"] = judulBola\n",
    "    detailBola[\"source\"] = \"https://www.bola.com\"\n",
    "    isiDataBola.append(detailBola)\n",
    "pd.DataFrame.from_dict(isiDataBola).to_csv(\"bola.csv\", index=False)\n"
   ]
  },
  {
   "cell_type": "code",
   "execution_count": null,
   "metadata": {},
   "outputs": [],
   "source": [
    "as"
   ]
  },
  {
   "cell_type": "code",
   "execution_count": null,
   "metadata": {},
   "outputs": [],
   "source": []
  },
  {
   "cell_type": "code",
   "execution_count": null,
   "metadata": {},
   "outputs": [],
   "source": []
  },
  {
   "cell_type": "code",
   "execution_count": null,
   "metadata": {},
   "outputs": [],
   "source": []
  },
  {
   "cell_type": "code",
   "execution_count": null,
   "metadata": {},
   "outputs": [],
   "source": []
  }
 ],
 "metadata": {
  "kernelspec": {
   "display_name": "Python 3",
   "language": "python",
   "name": "python3"
  },
  "language_info": {
   "codemirror_mode": {
    "name": "ipython",
    "version": 3
   },
   "file_extension": ".py",
   "mimetype": "text/x-python",
   "name": "python",
   "nbconvert_exporter": "python",
   "pygments_lexer": "ipython3",
   "version": "3.8.5"
  }
 },
 "nbformat": 4,
 "nbformat_minor": 4
}
